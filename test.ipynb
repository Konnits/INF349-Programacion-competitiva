{
 "cells": [
  {
   "cell_type": "code",
   "execution_count": null,
   "metadata": {},
   "outputs": [],
   "source": [
    "#814229251 593094923\n",
    "#423356139 423356139"
   ]
  },
  {
   "cell_type": "code",
   "execution_count": 1,
   "metadata": {},
   "outputs": [],
   "source": [
    "import numpy as np"
   ]
  },
  {
   "cell_type": "code",
   "execution_count": 2,
   "metadata": {},
   "outputs": [],
   "source": [
    "rows = 100\n",
    "cols = 100\n",
    "objective = 24022248768\n",
    "# 1000 1000 24022248768"
   ]
  },
  {
   "cell_type": "code",
   "execution_count": 3,
   "metadata": {},
   "outputs": [],
   "source": [
    "file = open(\"test.txt\", \"w\")\n",
    "file.write(f\"{rows} {cols} {objective}\\n\")\n",
    "for i in range(rows):\n",
    "    np.random.randint(1, 1e9, cols).tofile(file, sep = \" \")\n",
    "    file.write(\"\\n\")\n",
    "file.close()"
   ]
  },
  {
   "cell_type": "code",
   "execution_count": 12,
   "metadata": {},
   "outputs": [
    {
     "data": {
      "text/plain": [
       "781367228340993376"
      ]
     },
     "execution_count": 12,
     "metadata": {},
     "output_type": "execute_result"
    }
   ],
   "source": []
  },
  {
   "cell_type": "code",
   "execution_count": 32,
   "metadata": {},
   "outputs": [
    {
     "data": {
      "text/plain": [
       "'0 846712278 0 0 0 0 0 0 0 0 0 846712278 846712278 0 0 0 0 0 0 846712278 0 0 0 0 0 0 0 0 0 0\\n0 0 0 846712278 0 846712278 0 846712278 846712278 846712278 846712278 0 846712278 0 0 0 0 0 0 0 846712278 846712278 0 0 0 0 0 0 0 0'"
      ]
     },
     "execution_count": 32,
     "metadata": {},
     "output_type": "execute_result"
    }
   ],
   "source": [
    "\"\"\"0 846712278 0 0 0 0 0 0 0 0 0 846712278 846712278 0 0 0 0 0 0 846712278 0 0 0 0 0 0 0 0 0 0\n",
    "0 0 0 846712278 0 846712278 0 846712278 846712278 846712278 846712278 0 846712278 0 0 0 0 0 0 0 846712278 846712278 0 0 0 0 0 0 0 0\"\"\""
   ]
  }
 ],
 "metadata": {
  "kernelspec": {
   "display_name": "redes",
   "language": "python",
   "name": "python3"
  },
  "language_info": {
   "codemirror_mode": {
    "name": "ipython",
    "version": 3
   },
   "file_extension": ".py",
   "mimetype": "text/x-python",
   "name": "python",
   "nbconvert_exporter": "python",
   "pygments_lexer": "ipython3",
   "version": "3.9.12"
  },
  "orig_nbformat": 4,
  "vscode": {
   "interpreter": {
    "hash": "db9c06ab823eda4668381971094a5699a2344e229e33d5242188aaedb45ab9ff"
   }
  }
 },
 "nbformat": 4,
 "nbformat_minor": 2
}
